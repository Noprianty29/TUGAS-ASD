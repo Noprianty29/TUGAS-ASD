{
  "nbformat": 4,
  "nbformat_minor": 0,
  "metadata": {
    "colab": {
      "name": "Untitled51.ipynb",
      "provenance": [],
      "authorship_tag": "ABX9TyOSNPo1hwy/r2r+jz1SdC2P",
      "include_colab_link": true
    },
    "kernelspec": {
      "name": "python3",
      "display_name": "Python 3"
    },
    "language_info": {
      "name": "python"
    }
  },
  "cells": [
    {
      "cell_type": "markdown",
      "metadata": {
        "id": "view-in-github",
        "colab_type": "text"
      },
      "source": [
        "<a href=\"https://colab.research.google.com/github/Noprianty29/TUGAS-ASD/blob/main/Untitled51.ipynb\" target=\"_parent\"><img src=\"https://colab.research.google.com/assets/colab-badge.svg\" alt=\"Open In Colab\"/></a>"
      ]
    },
    {
      "cell_type": "code",
      "source": [
        "stack = []\n",
        "max_size = int(input(\"Masukkan Ukuran Maksimal Stack: \"))\n",
        "\n",
        "def isEmpty():\n",
        "\tif len(stack) == 0:\n",
        "\t\tprint(\"Stack Kosong.\")\n",
        "\t\treturn True\n",
        "\treturn False\n",
        "\t\n",
        "def isFull():\n",
        "\tif len(stack) == max_size:\n",
        "\t\tprint(\"Stack Penuh.\")\n",
        "\t\treturn True\n",
        "\treturn False\n",
        "\t\t\n",
        "def pop():\n",
        "\tif isEmpty() == False:\n",
        "\t\tprint(stack.pop(), \"terhapus.\")\n",
        "\n",
        "def push():\n",
        "\tif isFull() == False:\n",
        "\t\tx = input(\"Masukkan Item Baru: \")\n",
        "\t\tstack.append(x)\n",
        "\t\tprint(x, \"ditambahkan.\")\n",
        "\t\t\n",
        "def peek():\n",
        "\tif isEmpty() == False:\n",
        "\t\tprint(\"Top: \", stack[-1])\n",
        "\n",
        "\n",
        "p = 0\n",
        "while p != '6':\n",
        "    print('''\\n1. Push => Menambah Item\n",
        "2. Pop => Menghapus Item\n",
        "3. Peek => Melihat Item Teratas\n",
        "4. Empty => Memeriksa Apakah Stack Penuh\n",
        "5. Size => Melihat Ukuran Stack''')\n",
        "    p = input(\"Ketik 6 untuk berhenti\\nMasukkan Perintah: \")\n",
        "    print()\n",
        "    \n",
        "    if p == '1':\n",
        "    \tpush()\n",
        "    elif p == '2':\n",
        "    \tpop()\n",
        "    elif p == '3':\n",
        "    \tpeek()\n",
        "    elif p == '4':\n",
        "    \tif isEmpty() == False:\n",
        "    \t\tprint(\"Stack memiliki isi.\")\n",
        "    elif p == '5':\n",
        "    \tprint(\"Ukuran stack saat ini: \", len(stack), \"\\nUkuran maksimal stack: \", max_size)"
      ],
      "metadata": {
        "colab": {
          "base_uri": "https://localhost:8080/"
        },
        "id": "hPxobJY74bG_",
        "outputId": "8323e1bf-3b6f-467f-fbcd-8b5384d7173b"
      },
      "execution_count": null,
      "outputs": [
        {
          "output_type": "stream",
          "name": "stdout",
          "text": [
            "Masukkan Ukuran Maksimal Stack: 3\n",
            "\n",
            "1. Push => Menambah Item\n",
            "2. Pop => Menghapus Item\n",
            "3. Peek => Melihat Item Teratas\n",
            "4. Empty => Memeriksa Apakah Stack Penuh\n",
            "5. Size => Melihat Ukuran Stack\n",
            "Ketik 6 untuk berhenti\n",
            "Masukkan Perintah: 1\n",
            "\n",
            "Masukkan Item Baru: 15\n",
            "15 ditambahkan.\n",
            "\n",
            "1. Push => Menambah Item\n",
            "2. Pop => Menghapus Item\n",
            "3. Peek => Melihat Item Teratas\n",
            "4. Empty => Memeriksa Apakah Stack Penuh\n",
            "5. Size => Melihat Ukuran Stack\n",
            "Ketik 6 untuk berhenti\n",
            "Masukkan Perintah: 2\n",
            "\n",
            "15 terhapus.\n",
            "\n",
            "1. Push => Menambah Item\n",
            "2. Pop => Menghapus Item\n",
            "3. Peek => Melihat Item Teratas\n",
            "4. Empty => Memeriksa Apakah Stack Penuh\n",
            "5. Size => Melihat Ukuran Stack\n",
            "Ketik 6 untuk berhenti\n",
            "Masukkan Perintah: 2\n",
            "\n",
            "Stack Kosong.\n",
            "\n",
            "1. Push => Menambah Item\n",
            "2. Pop => Menghapus Item\n",
            "3. Peek => Melihat Item Teratas\n",
            "4. Empty => Memeriksa Apakah Stack Penuh\n",
            "5. Size => Melihat Ukuran Stack\n",
            "Ketik 6 untuk berhenti\n",
            "Masukkan Perintah: 3\n",
            "\n",
            "Stack Kosong.\n",
            "\n",
            "1. Push => Menambah Item\n",
            "2. Pop => Menghapus Item\n",
            "3. Peek => Melihat Item Teratas\n",
            "4. Empty => Memeriksa Apakah Stack Penuh\n",
            "5. Size => Melihat Ukuran Stack\n",
            "Ketik 6 untuk berhenti\n",
            "Masukkan Perintah: 3\n",
            "\n",
            "Stack Kosong.\n",
            "\n",
            "1. Push => Menambah Item\n",
            "2. Pop => Menghapus Item\n",
            "3. Peek => Melihat Item Teratas\n",
            "4. Empty => Memeriksa Apakah Stack Penuh\n",
            "5. Size => Melihat Ukuran Stack\n"
          ]
        }
      ]
    }
  ]
}