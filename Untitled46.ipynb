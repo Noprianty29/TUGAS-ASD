{
  "cells": [
    {
      "cell_type": "markdown",
      "metadata": {
        "id": "view-in-github",
        "colab_type": "text"
      },
      "source": [
        "<a href=\"https://colab.research.google.com/github/Noprianty29/TUGAS-ASD/blob/main/Untitled46.ipynb\" target=\"_parent\"><img src=\"https://colab.research.google.com/assets/colab-badge.svg\" alt=\"Open In Colab\"/></a>"
      ]
    },
    {
      "cell_type": "markdown",
      "metadata": {
        "id": "tAeMV4NfBSuX"
      },
      "source": [
        "PERULANGAN WHILE"
      ]
    },
    {
      "cell_type": "code",
      "execution_count": null,
      "metadata": {
        "colab": {
          "base_uri": "https://localhost:8080/"
        },
        "id": "ErEQDdXrzfAS",
        "outputId": "167a7417-13fc-4bf2-db59-a1343a0bf49a"
      },
      "outputs": [
        {
          "name": "stdout",
          "output_type": "stream",
          "text": [
            "1\n",
            "2\n",
            "3\n",
            "4\n",
            "5\n",
            "6\n",
            "7\n",
            "8\n",
            "9\n",
            "10\n"
          ]
        }
      ],
      "source": [
        "i = 1\n",
        " \n",
        "while i <= 10:\n",
        " print (i)\n",
        " i += 1"
      ]
    },
    {
      "cell_type": "code",
      "execution_count": null,
      "metadata": {
        "colab": {
          "background_save": true
        },
        "id": "0QOxv2cV0zIZ",
        "outputId": "6ee6b4f2-28ac-470b-cfd7-09789ce84539"
      },
      "outputs": [
        {
          "name": "stdout",
          "output_type": "stream",
          "text": [
            "noovi\n",
            "nina\n",
            "amel\n"
          ]
        }
      ],
      "source": [
        "listnama = ['noovi','nina','amel']\n",
        "\n",
        "i = 0\n",
        "while i < len(listnama):\n",
        " print(listnama[i])\n",
        " i += 1"
      ]
    },
    {
      "cell_type": "code",
      "source": [
        "listnama = ['noovi','nina','amel']\n",
        "while listnama:\n",
        " print(listnama.pop(0))"
      ],
      "metadata": {
        "colab": {
          "base_uri": "https://localhost:8080/"
        },
        "id": "DAs6N8zk6ibJ",
        "outputId": "2fe53771-78ec-4eb7-c296-01562c5379ad"
      },
      "execution_count": null,
      "outputs": [
        {
          "output_type": "stream",
          "name": "stdout",
          "text": [
            "noovi\n",
            "nina\n",
            "amel\n"
          ]
        }
      ]
    },
    {
      "cell_type": "code",
      "source": [
        "a = int(input('Masukkan bilangan ganjil lebih dari 50: '))\n",
        "\n",
        "while a % 2 != 1 or a <= 50:\n",
        "  a = int(input('Salah, masukkan lagi: '))\n",
        "\n",
        "print('Benar')"
      ],
      "metadata": {
        "colab": {
          "base_uri": "https://localhost:8080/"
        },
        "id": "yXNMy7Vi8EHo",
        "outputId": "dfba37b9-2cf5-4219-dd41-a17fa7383dd0"
      },
      "execution_count": null,
      "outputs": [
        {
          "output_type": "stream",
          "name": "stdout",
          "text": [
            "Masukkan bilangan ganjil lebih dari 50: 12\n",
            "Salah, masukkan lagi: 56\n",
            "Salah, masukkan lagi: 57\n",
            "Benar\n"
          ]
        }
      ]
    },
    {
      "cell_type": "code",
      "source": [
        ""
      ],
      "metadata": {
        "id": "L55sKKfC8ZDa"
      },
      "execution_count": null,
      "outputs": []
    }
  ],
  "metadata": {
    "colab": {
      "name": "Untitled46.ipynb",
      "provenance": [],
      "toc_visible": true,
      "authorship_tag": "ABX9TyMqvw64HM3MQKgJHhhjUkBG",
      "include_colab_link": true
    },
    "kernelspec": {
      "display_name": "Python 3",
      "name": "python3"
    },
    "language_info": {
      "name": "python"
    }
  },
  "nbformat": 4,
  "nbformat_minor": 0
}