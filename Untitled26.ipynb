{
  "cells": [
    {
      "cell_type": "markdown",
      "metadata": {
        "id": "view-in-github",
        "colab_type": "text"
      },
      "source": [
        "<a href=\"https://colab.research.google.com/github/Noprianty29/TUGAS-ASD/blob/main/Untitled26.ipynb\" target=\"_parent\"><img src=\"https://colab.research.google.com/assets/colab-badge.svg\" alt=\"Open In Colab\"/></a>"
      ]
    },
    {
      "cell_type": "code",
      "execution_count": null,
      "metadata": {
        "colab": {
          "background_save": true,
          "base_uri": "https://localhost:8080/"
        },
        "id": "nDu9QGngIK59",
        "outputId": "6d7eb905-45ce-44c1-e44e-f49a7fc6b355"
      },
      "outputs": [
        {
          "name": "stdout",
          "output_type": "stream",
          "text": [
            "1. menambah\n",
            "  2. menghapus\n",
            "  3. mengubah\n",
            "  4. menampilkan\n",
            "  5. cari barang\n",
            "  6. cari index\n",
            "1. menambah\n",
            "  2. menghapus\n",
            "  3. mengubah\n",
            "  4. menampilkan\n",
            "  5. cari barang\n",
            "  6. cari index\n",
            "1. menambah\n",
            "  2. menghapus\n",
            "  3. mengubah\n",
            "  4. menampilkan\n",
            "  5. cari barang\n",
            "  6. cari index\n",
            "1. menambah\n",
            "  2. menghapus\n",
            "  3. mengubah\n",
            "  4. menampilkan\n",
            "  5. cari barang\n",
            "  6. cari index\n",
            "1. menambah\n",
            "  2. menghapus\n",
            "  3. mengubah\n",
            "  4. menampilkan\n",
            "  5. cari barang\n",
            "  6. cari index\n",
            "1. menambah\n",
            "  2. menghapus\n",
            "  3. mengubah\n",
            "  4. menampilkan\n",
            "  5. cari barang\n",
            "  6. cari index\n",
            "1. menambah\n",
            "  2. menghapus\n",
            "  3. mengubah\n",
            "  4. menampilkan\n",
            "  5. cari barang\n",
            "  6. cari index\n",
            "hp\n",
            "pena\n",
            "kuas\n",
            "1. menambah\n",
            "  2. menghapus\n",
            "  3. mengubah\n",
            "  4. menampilkan\n",
            "  5. cari barang\n",
            "  6. cari index\n",
            "barang di temukan\n",
            "1. menambah\n",
            "  2. menghapus\n",
            "  3. mengubah\n",
            "  4. menampilkan\n",
            "  5. cari barang\n",
            "  6. cari index\n",
            "0\n",
            "1. menambah\n",
            "  2. menghapus\n",
            "  3. mengubah\n",
            "  4. menampilkan\n",
            "  5. cari barang\n",
            "  6. cari index\n"
          ]
        }
      ],
      "source": [
        "barang = []\n",
        "\n",
        "perintah = 0\n",
        "while perintah != 'stop':\n",
        "  print('''1. menambah\n",
        "  2. menghapus\n",
        "  3. mengubah\n",
        "  4. menampilkan\n",
        "  5. cari barang\n",
        "  6. cari index''')\n",
        "  perintah = input(\"masukkan perintah: \")\n",
        "\n",
        "  if perintah =='1':\n",
        "    namabarang = input(\"masukkan nama barang: \")\n",
        "    barang.append(namabarang)\n",
        "\n",
        "  elif perintah =='2':\n",
        "    index =int(input(\"masukkan nama barang: \"))\n",
        "    barang.pop(index)\n",
        "\n",
        "  elif perintah =='3':\n",
        "    barang1 =int(input(\"masukkan index yang akan di ubah: \"))\n",
        "    barang [barang1] = input(\"masukkan barang yang baru: \")\n",
        "\n",
        "  elif perintah =='4':\n",
        "    for i in barang :\n",
        "      print(i)\n",
        "\n",
        "  elif perintah =='5':\n",
        "    cari = input(\"masukkan nama barang yang di cari: \")\n",
        "    if cari in barang:\n",
        "      print(\"barang di temukan\")\n",
        "    else:\n",
        "      print(\"barang tidak di temukan\")\n",
        "\n",
        "  elif perintah =='6':\n",
        "    cari =input(\"masukkan item yang di cari: \")\n",
        "    if cari in barang:\n",
        "       print(barang.index(cari))\n",
        "    else:\n",
        "      print(\"item tidak di temukan\")\n",
        "\n",
        "print(barang)"
      ]
    }
  ],
  "metadata": {
    "colab": {
      "name": "Untitled26.ipynb",
      "provenance": [],
      "include_colab_link": true
    },
    "kernelspec": {
      "display_name": "Python 3",
      "name": "python3"
    },
    "language_info": {
      "name": "python"
    }
  },
  "nbformat": 4,
  "nbformat_minor": 0
}